{
  "nbformat": 4,
  "nbformat_minor": 0,
  "metadata": {
    "colab": {
      "provenance": []
    },
    "kernelspec": {
      "name": "python3",
      "display_name": "Python 3"
    },
    "language_info": {
      "name": "python"
    },
    "accelerator": "GPU",
    "gpuClass": "standard"
  },
  "cells": [
    {
      "cell_type": "code",
      "execution_count": null,
      "metadata": {
        "id": "SHDSN0W0AfaZ"
      },
      "outputs": [],
      "source": [
        "import numpy as np\n",
        "import matplotlib.pyplot as plt\n",
        "import os\n",
        "import math\n",
        "import shutil\n",
        "import glob\n",
        "from keras.layers import Conv2D,MaxPool2D,Dropout,Dense,BatchNormalization,GlobalAveragePooling2D,Flatten\n",
        "from keras.models import Sequential\n",
        "from keras.preprocessing.image import ImageDataGenerator\n",
        "from tensorflow.keras.utils import load_img,img_to_array\n",
        "import keras"
      ]
    },
    {
      "cell_type": "markdown",
      "source": [
        "Importing the root Directory for Splitting"
      ],
      "metadata": {
        "id": "aCld1xvxV7pt"
      }
    },
    {
      "cell_type": "code",
      "source": [
        "ROOT_DIR='/content/drive/MyDrive/DataSet'\n",
        "number_of_images={}\n",
        "for dir in os.listdir(ROOT_DIR):\n",
        "  number_of_images[dir]=len(os.listdir(os.path.join(ROOT_DIR,dir)) )\n",
        "  \n",
        "number_of_images.items()  "
      ],
      "metadata": {
        "colab": {
          "base_uri": "https://localhost:8080/"
        },
        "id": "XX3E9jKDV5mT",
        "outputId": "ab807a0e-3d59-490f-a946-d03948cd9b62"
      },
      "execution_count": null,
      "outputs": [
        {
          "output_type": "execute_result",
          "data": {
            "text/plain": [
              "dict_items([('Testing', 2), ('Training', 2)])"
            ]
          },
          "metadata": {},
          "execution_count": 2
        }
      ]
    },
    {
      "cell_type": "markdown",
      "source": [
        "We will Split the Data As 70% for Training and 30% for testing"
      ],
      "metadata": {
        "id": "rnmPptLzWPNn"
      }
    },
    {
      "cell_type": "code",
      "source": [
        "# # Function for splitting the data \n",
        "\n",
        "# def dataFolder(p,split):\n",
        "#   if not os.path.exists('./'+p):\n",
        "#     os.mkdir('./'+p)\n",
        "\n",
        "#     for dir in os.listdir(ROOT_DIR):\n",
        "#       os.makedirs('./'+p+'/'+dir)\n",
        "#       for img in np.random.choice(a=os.listdir(os.path.join(ROOT_DIR,dir) ),size=(math.floor(split*number_of_images[dir])-5),replace=False):\n",
        "#         O=os.path.join(ROOT_DIR,dir,img)\n",
        "#         D=os.path.join('./'+p,dir)\n",
        "#         shutil.copy(O,D)\n",
        "        \n",
        "#   else:\n",
        "#     print(f\"{p} folder exists\")"
      ],
      "metadata": {
        "id": "vzDRN4QMWcU4"
      },
      "execution_count": null,
      "outputs": []
    },
    {
      "cell_type": "code",
      "source": [
        "#Running the Split function for Training Data\n",
        "# dataFolder(\"train\",0.7)"
      ],
      "metadata": {
        "id": "uaOSo46wWrHQ"
      },
      "execution_count": null,
      "outputs": []
    },
    {
      "cell_type": "code",
      "source": [
        "# #Running the Split function for Testing Data\n",
        "# dataFolder(\"test\",0.3)"
      ],
      "metadata": {
        "id": "umNyimSNW5b5"
      },
      "execution_count": null,
      "outputs": []
    },
    {
      "cell_type": "markdown",
      "source": [
        "Cnn Model Creation"
      ],
      "metadata": {
        "id": "cFxEy_Q_XMZr"
      }
    },
    {
      "cell_type": "code",
      "source": [
        "#Model Layers\n",
        "model=Sequential()\n",
        "\n",
        "model.add(Conv2D(filters=16,kernel_size=(3,3),activation='relu',input_shape=(224,224,3)))\n",
        "\n",
        "model.add(Conv2D(filters=36,kernel_size=(3,3),activation='relu'))\n",
        "model.add(MaxPool2D(pool_size=(2,2)))\n",
        "\n",
        "model.add(Conv2D(filters=64,kernel_size=(3,3),activation='relu'))\n",
        "model.add(MaxPool2D(pool_size=(2,2)))\n",
        "\n",
        "model.add(Conv2D(filters=128,kernel_size=(3,3),activation='relu'))\n",
        "model.add(MaxPool2D(pool_size=(2,2)))\n",
        "\n",
        "model.add(Dropout(rate=0.25))\n",
        "\n",
        "model.add(Flatten())\n",
        "model.add(Dense(units=64,activation='relu'))\n",
        "model.add(Dropout(rate=0.25))\n",
        "model.add(Dense(units=1,activation='sigmoid'))"
      ],
      "metadata": {
        "id": "L-7bypIIBy6l"
      },
      "execution_count": null,
      "outputs": []
    },
    {
      "cell_type": "code",
      "source": [
        "#Compiling the Model\n",
        "model.compile(optimizer='adam',loss=keras.losses.binary_crossentropy,metrics=['accuracy'])"
      ],
      "metadata": {
        "id": "Yyg4dDcjB9s9"
      },
      "execution_count": null,
      "outputs": []
    },
    {
      "cell_type": "markdown",
      "source": [
        "Preparing Our images Using Data Generator"
      ],
      "metadata": {
        "id": "YpqlhGYzXdB1"
      }
    },
    {
      "cell_type": "code",
      "source": [
        "#For Training Images\n",
        "image_data= ImageDataGenerator (zoom_range= 0.2, shear_range= 0.2, rescale= 1/255, horizontal_flip= True)\n",
        "train_data= image_data.flow_from_directory(\n",
        "    directory='/content/drive/MyDrive/DataSet/Training',\n",
        "    target_size=(224, 224),\n",
        "    color_mode=\"rgb\",\n",
        "    batch_size=32,\n",
        "    class_mode=\"binary\",\n",
        "    shuffle=True,\n",
        "    seed=42\n",
        ")"
      ],
      "metadata": {
        "colab": {
          "base_uri": "https://localhost:8080/"
        },
        "id": "dND-vwyZCB_T",
        "outputId": "a11dc89d-1486-4d67-fdd1-bb7b43fa30c4"
      },
      "execution_count": null,
      "outputs": [
        {
          "output_type": "stream",
          "name": "stdout",
          "text": [
            "Found 4391 images belonging to 2 classes.\n"
          ]
        }
      ]
    },
    {
      "cell_type": "code",
      "source": [
        "#For Testing\n",
        "image_data= ImageDataGenerator (zoom_range= 0.2, shear_range= 0.2, rescale= 1/255, horizontal_flip= True)\n",
        "test_data= image_data.flow_from_directory(\n",
        "    directory='/content/drive/MyDrive/DataSet/Testing',\n",
        "    target_size=(224, 224),\n",
        "    color_mode=\"rgb\",\n",
        "    batch_size=32,\n",
        "    class_mode=\"binary\",\n",
        "    shuffle=True,\n",
        "    seed=42\n",
        ")"
      ],
      "metadata": {
        "colab": {
          "base_uri": "https://localhost:8080/"
        },
        "id": "-_OJISzFCFqv",
        "outputId": "ca2bdf4f-67de-482a-ec04-e65fd1745937"
      },
      "execution_count": null,
      "outputs": [
        {
          "output_type": "stream",
          "name": "stdout",
          "text": [
            "Found 1011 images belonging to 2 classes.\n"
          ]
        }
      ]
    },
    {
      "cell_type": "code",
      "source": [
        "#Early stopping and model checkpoint\n",
        "\n",
        "from keras.callbacks import ModelCheckpoint,EarlyStopping\n",
        "import scipy\n",
        "#Early stopping\n",
        "es=EarlyStopping(monitor='val_accuracy',min_delta=0.01,patience=6,verbose=1,mode='auto')\n",
        "mc=ModelCheckpoint(monitor='val_accuracy',filepath=\"bestModel.h5\",\n",
        "                   save_best_only=True,\n",
        "                   verbose=1,mode='auto')\n",
        "cd=[es,mc]"
      ],
      "metadata": {
        "id": "rPvYTEcgCc8A"
      },
      "execution_count": null,
      "outputs": []
    },
    {
      "cell_type": "markdown",
      "source": [
        "Model Tranning"
      ],
      "metadata": {
        "id": "XRArr9d3Xuau"
      }
    },
    {
      "cell_type": "code",
      "source": [
        "hs=model.fit_generator (generator= train_data,\n",
        "\n",
        "steps_per_epoch =8,\n",
        "\n",
        "epochs= 20,\n",
        "\n",
        "verbose= 1,\n",
        "\n",
        "validation_data =test_data,\n",
        "\n",
        "validation_steps= 12,\n",
        "\n",
        "callbacks =cd)"
      ],
      "metadata": {
        "colab": {
          "base_uri": "https://localhost:8080/"
        },
        "id": "KyqE-pgFCmQL",
        "outputId": "7e964e4a-f027-42ff-b001-e69ac0c9955e"
      },
      "execution_count": null,
      "outputs": [
        {
          "output_type": "stream",
          "name": "stderr",
          "text": [
            "<ipython-input-11-8d4721111102>:1: UserWarning: `Model.fit_generator` is deprecated and will be removed in a future version. Please use `Model.fit`, which supports generators.\n",
            "  hs=model.fit_generator (generator= train_data,\n"
          ]
        },
        {
          "output_type": "stream",
          "name": "stdout",
          "text": [
            "Epoch 1/20\n",
            "8/8 [==============================] - ETA: 0s - loss: 0.7035 - accuracy: 0.5273\n",
            "Epoch 1: val_accuracy improved from -inf to 0.64844, saving model to bestModel.h5\n",
            "8/8 [==============================] - 335s 39s/step - loss: 0.7035 - accuracy: 0.5273 - val_loss: 0.6689 - val_accuracy: 0.6484\n",
            "Epoch 2/20\n",
            "8/8 [==============================] - ETA: 0s - loss: 0.6642 - accuracy: 0.6445\n",
            "Epoch 2: val_accuracy did not improve from 0.64844\n",
            "8/8 [==============================] - 196s 26s/step - loss: 0.6642 - accuracy: 0.6445 - val_loss: 0.6488 - val_accuracy: 0.6146\n",
            "Epoch 3/20\n",
            "8/8 [==============================] - ETA: 0s - loss: 0.5071 - accuracy: 0.7852\n",
            "Epoch 3: val_accuracy improved from 0.64844 to 0.80990, saving model to bestModel.h5\n",
            "8/8 [==============================] - 127s 16s/step - loss: 0.5071 - accuracy: 0.7852 - val_loss: 0.4390 - val_accuracy: 0.8099\n",
            "Epoch 4/20\n",
            "8/8 [==============================] - ETA: 0s - loss: 0.4076 - accuracy: 0.8164\n",
            "Epoch 4: val_accuracy did not improve from 0.80990\n",
            "8/8 [==============================] - 116s 15s/step - loss: 0.4076 - accuracy: 0.8164 - val_loss: 0.4316 - val_accuracy: 0.8047\n",
            "Epoch 5/20\n",
            "8/8 [==============================] - ETA: 0s - loss: 0.2969 - accuracy: 0.8789\n",
            "Epoch 5: val_accuracy improved from 0.80990 to 0.85156, saving model to bestModel.h5\n",
            "8/8 [==============================] - 97s 12s/step - loss: 0.2969 - accuracy: 0.8789 - val_loss: 0.3641 - val_accuracy: 0.8516\n",
            "Epoch 6/20\n",
            "8/8 [==============================] - ETA: 0s - loss: 0.3151 - accuracy: 0.8789\n",
            "Epoch 6: val_accuracy improved from 0.85156 to 0.85417, saving model to bestModel.h5\n",
            "8/8 [==============================] - 85s 11s/step - loss: 0.3151 - accuracy: 0.8789 - val_loss: 0.3873 - val_accuracy: 0.8542\n",
            "Epoch 7/20\n",
            "8/8 [==============================] - ETA: 0s - loss: 0.2599 - accuracy: 0.8945\n",
            "Epoch 7: val_accuracy did not improve from 0.85417\n",
            "8/8 [==============================] - 77s 10s/step - loss: 0.2599 - accuracy: 0.8945 - val_loss: 0.4540 - val_accuracy: 0.8438\n",
            "Epoch 8/20\n",
            "8/8 [==============================] - ETA: 0s - loss: 0.3084 - accuracy: 0.8750\n",
            "Epoch 8: val_accuracy improved from 0.85417 to 0.87760, saving model to bestModel.h5\n",
            "8/8 [==============================] - 73s 9s/step - loss: 0.3084 - accuracy: 0.8750 - val_loss: 0.3616 - val_accuracy: 0.8776\n",
            "Epoch 9/20\n",
            "8/8 [==============================] - ETA: 0s - loss: 0.2970 - accuracy: 0.8789\n",
            "Epoch 9: val_accuracy did not improve from 0.87760\n",
            "8/8 [==============================] - 74s 9s/step - loss: 0.2970 - accuracy: 0.8789 - val_loss: 0.4063 - val_accuracy: 0.7891\n",
            "Epoch 10/20\n",
            "8/8 [==============================] - ETA: 0s - loss: 0.2566 - accuracy: 0.8867\n",
            "Epoch 10: val_accuracy did not improve from 0.87760\n",
            "8/8 [==============================] - 70s 9s/step - loss: 0.2566 - accuracy: 0.8867 - val_loss: 0.3245 - val_accuracy: 0.8464\n",
            "Epoch 11/20\n",
            "8/8 [==============================] - ETA: 0s - loss: 0.2086 - accuracy: 0.9297\n",
            "Epoch 11: val_accuracy did not improve from 0.87760\n",
            "8/8 [==============================] - 70s 9s/step - loss: 0.2086 - accuracy: 0.9297 - val_loss: 0.3411 - val_accuracy: 0.8750\n",
            "Epoch 12/20\n",
            "8/8 [==============================] - ETA: 0s - loss: 0.3158 - accuracy: 0.8828\n",
            "Epoch 12: val_accuracy did not improve from 0.87760\n",
            "8/8 [==============================] - 74s 9s/step - loss: 0.3158 - accuracy: 0.8828 - val_loss: 0.6009 - val_accuracy: 0.7682\n",
            "Epoch 13/20\n",
            "8/8 [==============================] - ETA: 0s - loss: 0.2260 - accuracy: 0.9336\n",
            "Epoch 13: val_accuracy improved from 0.87760 to 0.88281, saving model to bestModel.h5\n",
            "8/8 [==============================] - 67s 8s/step - loss: 0.2260 - accuracy: 0.9336 - val_loss: 0.3070 - val_accuracy: 0.8828\n",
            "Epoch 14/20\n",
            "8/8 [==============================] - ETA: 0s - loss: 0.2357 - accuracy: 0.9336\n",
            "Epoch 14: val_accuracy improved from 0.88281 to 0.88802, saving model to bestModel.h5\n",
            "8/8 [==============================] - 68s 8s/step - loss: 0.2357 - accuracy: 0.9336 - val_loss: 0.3162 - val_accuracy: 0.8880\n",
            "Epoch 15/20\n",
            "8/8 [==============================] - ETA: 0s - loss: 0.1969 - accuracy: 0.9091\n",
            "Epoch 15: val_accuracy improved from 0.88802 to 0.89583, saving model to bestModel.h5\n",
            "8/8 [==============================] - 61s 8s/step - loss: 0.1969 - accuracy: 0.9091 - val_loss: 0.3391 - val_accuracy: 0.8958\n",
            "Epoch 16/20\n",
            "8/8 [==============================] - ETA: 0s - loss: 0.2635 - accuracy: 0.8867\n",
            "Epoch 16: val_accuracy improved from 0.89583 to 0.92448, saving model to bestModel.h5\n",
            "8/8 [==============================] - 73s 9s/step - loss: 0.2635 - accuracy: 0.8867 - val_loss: 0.2557 - val_accuracy: 0.9245\n",
            "Epoch 17/20\n",
            "8/8 [==============================] - ETA: 0s - loss: 0.1839 - accuracy: 0.9336\n",
            "Epoch 17: val_accuracy did not improve from 0.92448\n",
            "8/8 [==============================] - 65s 8s/step - loss: 0.1839 - accuracy: 0.9336 - val_loss: 0.2592 - val_accuracy: 0.8932\n",
            "Epoch 18/20\n",
            "8/8 [==============================] - ETA: 0s - loss: 0.1358 - accuracy: 0.9570\n",
            "Epoch 18: val_accuracy did not improve from 0.92448\n",
            "8/8 [==============================] - 68s 9s/step - loss: 0.1358 - accuracy: 0.9570 - val_loss: 0.2993 - val_accuracy: 0.8776\n",
            "Epoch 19/20\n",
            "8/8 [==============================] - ETA: 0s - loss: 0.1740 - accuracy: 0.9570\n",
            "Epoch 19: val_accuracy did not improve from 0.92448\n",
            "8/8 [==============================] - 73s 9s/step - loss: 0.1740 - accuracy: 0.9570 - val_loss: 0.3267 - val_accuracy: 0.8828\n",
            "Epoch 20/20\n",
            "8/8 [==============================] - ETA: 0s - loss: 0.1618 - accuracy: 0.9492\n",
            "Epoch 20: val_accuracy did not improve from 0.92448\n",
            "8/8 [==============================] - 67s 8s/step - loss: 0.1618 - accuracy: 0.9492 - val_loss: 0.3053 - val_accuracy: 0.8854\n"
          ]
        }
      ]
    },
    {
      "cell_type": "markdown",
      "source": [
        "Model Graphical Interpretaion"
      ],
      "metadata": {
        "id": "k0IWjEwBX2mN"
      }
    },
    {
      "cell_type": "code",
      "source": [
        "h=hs.history\n",
        "h.keys()"
      ],
      "metadata": {
        "id": "Yxt9IolZCtFz",
        "colab": {
          "base_uri": "https://localhost:8080/"
        },
        "outputId": "b64fb977-602b-4136-c929-c1d7871aec7c"
      },
      "execution_count": null,
      "outputs": [
        {
          "output_type": "execute_result",
          "data": {
            "text/plain": [
              "dict_keys(['loss', 'accuracy', 'val_loss', 'val_accuracy'])"
            ]
          },
          "metadata": {},
          "execution_count": 12
        }
      ]
    },
    {
      "cell_type": "code",
      "source": [
        "plt.plot(h['accuracy'])\n",
        "plt.plot(h['val_accuracy'])\n",
        "plt.title('acc vs val_acc')\n",
        "plt.show()"
      ],
      "metadata": {
        "colab": {
          "base_uri": "https://localhost:8080/",
          "height": 281
        },
        "id": "Zv1Nd6e9Qp3g",
        "outputId": "43e3569b-bd00-480f-b415-29e4e65eb081"
      },
      "execution_count": null,
      "outputs": [
        {
          "output_type": "display_data",
          "data": {
            "text/plain": [
              "<Figure size 432x288 with 1 Axes>"
            ],
            "image/png": "[encoded data removed]"
          },
          "metadata": {
            "needs_background": "light"
          }
        }
      ]
    },
    {
      "cell_type": "code",
      "source": [
        "#Model Accuracy\n",
        "from keras.models import load_model\n",
        "model =load_model(\"/content/bestModel.h5\")"
      ],
      "metadata": {
        "id": "v-oKzmbzQ11B"
      },
      "execution_count": null,
      "outputs": []
    },
    {
      "cell_type": "markdown",
      "source": [
        "Model Accuracy"
      ],
      "metadata": {
        "id": "PnL5i3WwOonV"
      }
    },
    {
      "cell_type": "code",
      "source": [
        "acc=model.evaluate_generator(test_data)[1]\n",
        "print(f\"The Accuracy of our model is: {acc}\")"
      ],
      "metadata": {
        "colab": {
          "base_uri": "https://localhost:8080/"
        },
        "id": "MWq_tMcVOq2N",
        "outputId": "cfba827e-a99f-4b57-a0f6-415d0f206fab"
      },
      "execution_count": null,
      "outputs": [
        {
          "output_type": "stream",
          "name": "stderr",
          "text": [
            "<ipython-input-15-60849963a618>:1: UserWarning: `Model.evaluate_generator` is deprecated and will be removed in a future version. Please use `Model.evaluate`, which supports generators.\n",
            "  acc=model.evaluate_generator(test_data)[1]\n"
          ]
        },
        {
          "output_type": "stream",
          "name": "stdout",
          "text": [
            "The Accuracy of our model is: 0.9010880589485168\n"
          ]
        }
      ]
    },
    {
      "cell_type": "code",
      "source": [
        "train_data.class_indices"
      ],
      "metadata": {
        "colab": {
          "base_uri": "https://localhost:8080/"
        },
        "id": "cVHp1yjaCjte",
        "outputId": "de9f4d3f-f652-4c80-c994-7d924b870328"
      },
      "execution_count": null,
      "outputs": [
        {
          "output_type": "execute_result",
          "data": {
            "text/plain": [
              "{'Brain Tumor': 0, 'Healthy': 1}"
            ]
          },
          "metadata": {},
          "execution_count": 16
        }
      ]
    },
    {
      "cell_type": "code",
      "source": [
        "path=\"/content/drive/MyDrive/DataSet/Testing/Healthy/Te-no_0366.jpg\"\n",
        "img=load_img(path,target_size=(224,224))\n",
        "input_arr=img_to_array(img)/255\n",
        "\n",
        "plt.imshow(input_arr)\n",
        "plt.show()\n",
        "\n",
        "input_arr.shape\n",
        "input_arr=np.expand_dims(input_arr,axis=0)\n",
        "pred=model.predict(input_arr)[0][0]\n",
        "pred\n",
        "\n",
        "if pred>0.6:\n",
        "  print(\"Healthy\",pred)\n",
        "else:\n",
        "  print(\"Brain Tumor\",pred)"
      ],
      "metadata": {
        "id": "nN2hov5xzVit"
      },
      "execution_count": null,
      "outputs": []
    },
    {
      "cell_type": "code",
      "source": [],
      "metadata": {
        "id": "HSyIRm6SH6ww"
      },
      "execution_count": null,
      "outputs": []
    }
  ]
}